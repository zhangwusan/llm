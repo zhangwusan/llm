{
 "cells": [
  {
   "cell_type": "code",
   "execution_count": 1,
   "id": "8cdadea9",
   "metadata": {},
   "outputs": [],
   "source": [
    "import os\n",
    "import sys\n",
    "sys.path.append(os.path.abspath(\"..\"))\n"
   ]
  },
  {
   "cell_type": "code",
   "execution_count": 2,
   "id": "3e811681",
   "metadata": {},
   "outputs": [],
   "source": [
    "from A11M.models.rnn import RNNCell"
   ]
  },
  {
   "cell_type": "code",
   "execution_count": 3,
   "id": "c0938e65",
   "metadata": {},
   "outputs": [],
   "source": [
    "rnn = RNNCell(2, 3)"
   ]
  },
  {
   "cell_type": "code",
   "execution_count": 4,
   "id": "9df25600",
   "metadata": {},
   "outputs": [
    {
     "name": "stdout",
     "output_type": "stream",
     "text": [
      "WH :  Parameter containing:\n",
      "tensor([[ 0.6355,  0.5220, -1.1094],\n",
      "        [ 1.1472,  0.4480,  0.8112],\n",
      "        [ 0.6123,  0.3352,  0.7567]], requires_grad=True)\n"
     ]
    }
   ],
   "source": [
    "print(\"WH : \", rnn.Whh)"
   ]
  },
  {
   "cell_type": "code",
   "execution_count": 5,
   "id": "cf157b2c",
   "metadata": {},
   "outputs": [
    {
     "name": "stdout",
     "output_type": "stream",
     "text": [
      "WX :  Parameter containing:\n",
      "tensor([[-1.0574, -2.3983, -0.5628],\n",
      "        [-0.4302,  0.2227, -0.1312]], requires_grad=True)\n"
     ]
    }
   ],
   "source": [
    "print(\"WX : \", rnn.Wxh)"
   ]
  },
  {
   "cell_type": "code",
   "execution_count": 6,
   "id": "14db0441",
   "metadata": {},
   "outputs": [
    {
     "name": "stdout",
     "output_type": "stream",
     "text": [
      "H :  tensor([[ 0.9538, -0.7532, -0.0498],\n",
      "        [ 0.7123,  0.3616,  0.6016]], grad_fn=<TanhBackward0>)\n"
     ]
    }
   ],
   "source": [
    "# Hidden state\n",
    "import torch\n",
    "\n",
    "X = torch.tensor([\n",
    "    [1.0, 0.0],\n",
    "    [0.1, 0.2],\n",
    "], dtype=torch.float32)\n",
    "\n",
    "h_prev = torch.tensor([\n",
    "    [1.0, 2.0, 0.0],\n",
    "    [0.2, 0.3, 1.0]\n",
    "], dtype=torch.float32)\n",
    "\n",
    "h = rnn.forward(X, h_prev)\n",
    "print(\"H : \", h)"
   ]
  },
  {
   "cell_type": "code",
   "execution_count": 7,
   "id": "f13f0a65",
   "metadata": {},
   "outputs": [
    {
     "name": "stdout",
     "output_type": "stream",
     "text": [
      "Batch size :  2\n",
      "seq_len :  3\n"
     ]
    }
   ],
   "source": [
    "t = torch.zeros((2, 3))\n",
    "batch_size, seq_len = t.shape\n",
    "print('Batch size : ', batch_size)\n",
    "print('seq_len : ', seq_len)"
   ]
  },
  {
   "cell_type": "code",
   "execution_count": 8,
   "id": "9cf02954",
   "metadata": {},
   "outputs": [
    {
     "name": "stdout",
     "output_type": "stream",
     "text": [
      "Batch size :  2\n",
      "seq_len :  3\n"
     ]
    }
   ],
   "source": [
    "t = torch.tensor([\n",
    "    [1.0, 2.0, 0.0],\n",
    "    [0.2, 0.3, 1.0]\n",
    "], dtype=torch.float32)\n",
    "batch_size, seq_len = t.shape\n",
    "print('Batch size : ', batch_size)\n",
    "print('seq_len : ', seq_len)"
   ]
  },
  {
   "cell_type": "code",
   "execution_count": 9,
   "id": "a1ee751c",
   "metadata": {},
   "outputs": [
    {
     "data": {
      "text/plain": [
       "tensor([[ 5., 15.],\n",
       "        [ 8., 22.]])"
      ]
     },
     "execution_count": 9,
     "metadata": {},
     "output_type": "execute_result"
    }
   ],
   "source": [
    "A = torch.tensor([\n",
    "    [1, 3],\n",
    "    [2, 4]\n",
    "], dtype=torch.float32)\n",
    "\n",
    "B = torch.tensor([\n",
    "    [2, 3],\n",
    "    [1, 4]\n",
    "], dtype=torch.float32)\n",
    "\n",
    "A @ B"
   ]
  },
  {
   "cell_type": "code",
   "execution_count": 10,
   "id": "24f312a9",
   "metadata": {},
   "outputs": [
    {
     "data": {
      "text/plain": [
       "tensor([[ 4.,  2.,  6.],\n",
       "        [10.,  5., 15.]])"
      ]
     },
     "execution_count": 10,
     "metadata": {},
     "output_type": "execute_result"
    }
   ],
   "source": [
    "A = torch.tensor([\n",
    "    [1, 2, 3],\n",
    "    [4, 5, 6]\n",
    "], dtype=torch.float32)\n",
    "\n",
    "B = torch.tensor([\n",
    "    [1, 0, 1],\n",
    "    [0, 1, 1],\n",
    "    [1, 0, 1]\n",
    "], dtype=torch.float32)\n",
    "\n",
    "A @ B"
   ]
  },
  {
   "cell_type": "code",
   "execution_count": 11,
   "id": "cda8e2ac",
   "metadata": {},
   "outputs": [
    {
     "data": {
      "text/plain": [
       "tensor([[-0.1846,  1.3088, -0.4004, -0.8457,  1.1745,  0.4992, -0.1439,  0.9410],\n",
       "        [-0.9479, -0.8124,  0.5035,  1.2562,  2.4195,  0.5881,  0.0090, -0.1859],\n",
       "        [-0.4384,  0.8865, -0.1157,  1.6547, -1.7019,  0.0415, -1.1178,  1.8324],\n",
       "        [ 0.1476, -0.0881, -0.3336,  0.1281, -0.8032,  2.3086,  0.3410, -0.3318],\n",
       "        [-0.6989, -0.5936, -0.5627, -0.6626, -0.4219,  0.3564,  1.3520,  0.9595],\n",
       "        [-0.3079, -0.0300,  1.0430, -0.3115,  1.0440,  0.8131,  0.4987, -1.1736]])"
      ]
     },
     "execution_count": 11,
     "metadata": {},
     "output_type": "execute_result"
    }
   ],
   "source": [
    "B = torch.randn(4, 6, 8) # (batch_size=4, seq_len=6, feature_size=8)\n",
    "B = torch.randn(4, 6, 8) # (batch_size=4, seq_len=6, feature_size=8)\n",
    "B[0]"
   ]
  },
  {
   "cell_type": "code",
   "execution_count": 12,
   "id": "dcdf4abe",
   "metadata": {},
   "outputs": [
    {
     "data": {
      "text/plain": [
       "tensor([[-0.1846,  1.3088, -0.4004, -0.8457,  1.1745,  0.4992, -0.1439,  0.9410],\n",
       "        [-0.9479, -0.8124,  0.5035,  1.2562,  2.4195,  0.5881,  0.0090, -0.1859],\n",
       "        [-0.4384,  0.8865, -0.1157,  1.6547, -1.7019,  0.0415, -1.1178,  1.8324],\n",
       "        [ 0.1476, -0.0881, -0.3336,  0.1281, -0.8032,  2.3086,  0.3410, -0.3318],\n",
       "        [-0.6989, -0.5936, -0.5627, -0.6626, -0.4219,  0.3564,  1.3520,  0.9595],\n",
       "        [-0.3079, -0.0300,  1.0430, -0.3115,  1.0440,  0.8131,  0.4987, -1.1736]])"
      ]
     },
     "execution_count": 12,
     "metadata": {},
     "output_type": "execute_result"
    }
   ],
   "source": [
    "B[0, :, :]"
   ]
  },
  {
   "cell_type": "code",
   "execution_count": 13,
   "id": "9663d263",
   "metadata": {},
   "outputs": [
    {
     "data": {
      "text/plain": [
       "tensor([[-0.1846,  1.3088, -0.4004, -0.8457,  1.1745,  0.4992, -0.1439,  0.9410],\n",
       "        [-0.8164,  2.0894, -0.2871,  1.3000, -1.2883, -0.3139, -1.7292,  0.1065],\n",
       "        [ 1.0970,  0.4334,  0.3800,  1.1729, -0.2287, -1.7480, -2.8473, -0.4301],\n",
       "        [ 0.7239, -0.7578, -0.0154,  0.5289,  1.0666, -2.1159, -0.0587,  0.3693]])"
      ]
     },
     "execution_count": 13,
     "metadata": {},
     "output_type": "execute_result"
    }
   ],
   "source": [
    "B[:, 0, :]"
   ]
  },
  {
   "cell_type": "code",
   "execution_count": 14,
   "id": "1523134c",
   "metadata": {},
   "outputs": [
    {
     "data": {
      "text/plain": [
       "tensor([[-0.2784,  0.4375,  0.0459],\n",
       "        [ 0.0066,  1.1939, -0.1885]])"
      ]
     },
     "execution_count": 14,
     "metadata": {},
     "output_type": "execute_result"
    }
   ],
   "source": [
    "x = torch.randn(2, 3)\n",
    "x"
   ]
  },
  {
   "cell_type": "code",
   "execution_count": 15,
   "id": "577de59a",
   "metadata": {},
   "outputs": [
    {
     "data": {
      "text/plain": [
       "tensor([[-0.2784,  0.4375,  0.0459],\n",
       "        [ 0.0066,  1.1939, -0.1885],\n",
       "        [-0.2784,  0.4375,  0.0459],\n",
       "        [ 0.0066,  1.1939, -0.1885],\n",
       "        [-0.2784,  0.4375,  0.0459],\n",
       "        [ 0.0066,  1.1939, -0.1885]])"
      ]
     },
     "execution_count": 15,
     "metadata": {},
     "output_type": "execute_result"
    }
   ],
   "source": [
    "torch.cat((x, x, x), dim=0)"
   ]
  },
  {
   "cell_type": "code",
   "execution_count": 16,
   "id": "80d9608c",
   "metadata": {},
   "outputs": [
    {
     "data": {
      "text/plain": [
       "tensor([[-0.2784,  0.4375,  0.0459, -0.2784,  0.4375,  0.0459, -0.2784,  0.4375,\n",
       "          0.0459],\n",
       "        [ 0.0066,  1.1939, -0.1885,  0.0066,  1.1939, -0.1885,  0.0066,  1.1939,\n",
       "         -0.1885]])"
      ]
     },
     "execution_count": 16,
     "metadata": {},
     "output_type": "execute_result"
    }
   ],
   "source": [
    "torch.cat((x, x, x), dim=1)"
   ]
  },
  {
   "cell_type": "code",
   "execution_count": 17,
   "id": "1cccc512",
   "metadata": {},
   "outputs": [
    {
     "data": {
      "text/plain": [
       "tensor([[[-0.2784,  0.4375,  0.0459],\n",
       "         [ 0.0066,  1.1939, -0.1885]],\n",
       "\n",
       "        [[-0.2784,  0.4375,  0.0459],\n",
       "         [ 0.0066,  1.1939, -0.1885]],\n",
       "\n",
       "        [[-0.2784,  0.4375,  0.0459],\n",
       "         [ 0.0066,  1.1939, -0.1885]],\n",
       "\n",
       "        [[-0.2784,  0.4375,  0.0459],\n",
       "         [ 0.0066,  1.1939, -0.1885]]])"
      ]
     },
     "execution_count": 17,
     "metadata": {},
     "output_type": "execute_result"
    }
   ],
   "source": [
    "x3d = x.unsqueeze(0).repeat(4, 1, 1) # 4 batch\n",
    "x3d"
   ]
  },
  {
   "cell_type": "code",
   "execution_count": 18,
   "id": "90ccac1d",
   "metadata": {},
   "outputs": [
    {
     "data": {
      "text/plain": [
       "tensor([ 0.0066,  1.1939, -0.1885])"
      ]
     },
     "execution_count": 18,
     "metadata": {},
     "output_type": "execute_result"
    }
   ],
   "source": [
    "x3d = x.unsqueeze(0)\n",
    "x3d[0][1]"
   ]
  },
  {
   "cell_type": "code",
   "execution_count": 19,
   "id": "0e5c5a9b",
   "metadata": {},
   "outputs": [
    {
     "data": {
      "text/plain": [
       "tensor([ 0.0066,  1.1939, -0.1885])"
      ]
     },
     "execution_count": 19,
     "metadata": {},
     "output_type": "execute_result"
    }
   ],
   "source": [
    "x3d = x.unsqueeze(1)\n",
    "x3d[1][0]"
   ]
  },
  {
   "cell_type": "code",
   "execution_count": 20,
   "id": "f6c9c858",
   "metadata": {},
   "outputs": [
    {
     "name": "stdout",
     "output_type": "stream",
     "text": [
      "[0] Loss: 1.2183 | Predicted: lhlhh\n",
      "[50] Loss: 0.0235 | Predicted: elloh\n",
      "[100] Loss: 0.0095 | Predicted: elloh\n",
      "[150] Loss: 0.0056 | Predicted: elloh\n",
      "[200] Loss: 0.0038 | Predicted: elloh\n",
      "[250] Loss: 0.0024 | Predicted: elloh\n"
     ]
    }
   ],
   "source": [
    "# Toy dataset\n",
    "import torch.nn as nn\n",
    "from A11M.models.rnn import RNN\n",
    "\n",
    "\n",
    "text = \"hello\"\n",
    "chars = sorted(set(text))\n",
    "stoi = {c: i for i, c in enumerate(chars)}\n",
    "itos = {i: c for c, i in stoi.items()}\n",
    "vocab_size = len(chars)\n",
    "\n",
    "def encode(s): return torch.tensor([stoi[c] for c in s], dtype=torch.long)\n",
    "def decode(t): return ''.join([itos[int(i)] for i in t])\n",
    "\n",
    "# Input/target\n",
    "X = encode(\"hello\").unsqueeze(0)      # shape: (1, 5)\n",
    "Y = encode(\"elloh\").unsqueeze(0)      # shape: (1, 5)\n",
    "\n",
    "# Model and training\n",
    "model = RNN(vocab_size, embed_size=8, hidden_size=16)\n",
    "criterion = nn.CrossEntropyLoss()\n",
    "optimizer = torch.optim.Adam(model.parameters(), lr=0.01)\n",
    "\n",
    "for epoch in range(300):\n",
    "    optimizer.zero_grad()\n",
    "    logits = model(X)                         # (1, 5, vocab_size)\n",
    "    loss = criterion(logits.view(-1, vocab_size), Y.view(-1))\n",
    "    loss.backward()\n",
    "    optimizer.step()\n",
    "\n",
    "    if epoch % 50 == 0:\n",
    "        pred = logits.argmax(dim=2).squeeze()\n",
    "        print(f\"[{epoch}] Loss: {loss.item():.4f} | Predicted: {decode(pred)}\")"
   ]
  },
  {
   "cell_type": "code",
   "execution_count": 21,
   "id": "9fa04db9",
   "metadata": {},
   "outputs": [],
   "source": [
    "import requests\n",
    "\n",
    "\n",
    "url = \"https://raw.githubusercontent.com/karpathy/char-rnn/master/data/tinyshakespeare/input.txt\"\n",
    "text = requests.get(url).text\n",
    "text = text[:10000]  # 10k characters for fast training\n",
    "chars = sorted(set(text))\n",
    "stoi = {ch: i for i, ch in enumerate(chars)}\n",
    "itos = {i: ch for ch, i in stoi.items()}\n",
    "vocab_size = len(chars)\n",
    "def encode(s): return [stoi[c] for c in s]\n",
    "def decode(t): return ''.join([itos[i] for i in t])"
   ]
  },
  {
   "cell_type": "code",
   "execution_count": 26,
   "id": "a11d20a7",
   "metadata": {},
   "outputs": [
    {
     "name": "stdout",
     "output_type": "stream",
     "text": [
      "First Citizen:\n",
      "Before we proceed any further, hear me speak.\n",
      "\n",
      "All:\n",
      "Speak, speak.\n",
      "\n",
      "First Citizen:\n",
      "You are all resolved rather to die than to famish?\n",
      "\n",
      "All:\n",
      "Resolved. resolved.\n",
      "\n",
      "First Citizen:\n",
      "First, you know Caius Marcius is chief enemy to the people.\n",
      "\n",
      "All:\n",
      "We know't, we know't.\n",
      "\n",
      "First Citizen:\n",
      "Let us kill him, and we'll have corn at our own price.\n",
      "Is't a verdict?\n",
      "\n",
      "All:\n",
      "No more talking on't; let it be done: away, away!\n",
      "\n",
      "Second Citizen:\n",
      "One word, good citizens.\n",
      "\n",
      "First Citizen:\n",
      "We are accounted poor citizens, the patricians good.\n",
      "What authority surfeits on would relieve us: if they\n",
      "would yield us but the superfluity, while it were\n",
      "wholesome, we might guess they relieved us humanely;\n",
      "but they think we are too dear: the leanness that\n",
      "afflicts us, the object of our misery, is as an\n",
      "inventory to particularise their abundance; our\n",
      "sufferance is a gain to them Let us revenge this with\n",
      "our pikes, ere we become rakes: for the gods know I\n",
      "speak this in hunger for bread, not in thirst for revenge.\n",
      "\n",
      "Second Citizen:\n",
      "Would you proceed especially against Caius Marcius?\n",
      "\n",
      "All:\n",
      "Against him first: he's a very dog to the commonalty.\n",
      "\n",
      "Second Citizen:\n",
      "Consider you what services he has done for his country?\n",
      "\n",
      "First Citizen:\n",
      "Very well; and could be content to give him good\n",
      "report fort, but that he pays himself with being proud.\n",
      "\n",
      "Second Citizen:\n",
      "Nay, but speak not maliciously.\n",
      "\n",
      "First Citizen:\n",
      "I say unto you, what he hath done famously, he did\n",
      "it to that end: though soft-conscienced men can be\n",
      "content to say it was for his country he did it to\n",
      "please his mother and to be partly proud; which he\n",
      "is, even till the altitude of his virtue.\n",
      "\n",
      "Second Citizen:\n",
      "What he cannot help in his nature, you account a\n",
      "vice in him. You must in no way say he is covetous.\n",
      "\n",
      "First Citizen:\n",
      "If I must not, I need not be barren of accusations;\n",
      "he hath faults, with surplus, to tire in repetition.\n",
      "What shouts are these? The other side o' the city\n",
      "is risen: why stay we prating here? to the Capitol!\n",
      "\n",
      "All:\n",
      "Come, come.\n",
      "\n",
      "First Citizen:\n",
      "Soft! who comes here?\n",
      "\n",
      "Second Citizen:\n",
      "Worthy Menenius Agrippa; one that hath always loved\n",
      "the people.\n",
      "\n",
      "First Citizen:\n",
      "He's one honest enough: would all the rest were so!\n",
      "\n",
      "MENENIUS:\n",
      "What work's, my countrymen, in hand? where go you\n",
      "With bats and clubs? The matter? speak, I pray you.\n",
      "\n",
      "First Citizen:\n",
      "Our business is not unknown to the senate; they have\n",
      "had inkling this fortnight what we intend to do,\n",
      "which now we'll show 'em in deeds. They say poor\n",
      "suitors have strong breaths: they shall know we\n",
      "have strong arms too.\n",
      "\n",
      "MENENIUS:\n",
      "Why, masters, my good friends, mine honest neighbours,\n",
      "Will you undo yourselves?\n",
      "\n",
      "First Citizen:\n",
      "We cannot, sir, we are undone already.\n",
      "\n",
      "MENENIUS:\n",
      "I tell you, friends, most charitable care\n",
      "Have the patricians of you. For your wants,\n",
      "Your suffering in this dearth, you may as well\n",
      "Strike at the heaven with your staves as lift them\n",
      "Against the Roman state, whose course will on\n",
      "The way it takes, cracking ten thousand curbs\n",
      "Of more strong link asunder than can ever\n",
      "Appear in your impediment. For the dearth,\n",
      "The gods, not the patricians, make it, and\n",
      "Your knees to them, not arms, must help. Alack,\n",
      "You are transported by calamity\n",
      "Thither where more attends you, and you slander\n",
      "The helms o' the state, who care for you like fathers,\n",
      "When you curse them as enemies.\n",
      "\n",
      "First Citizen:\n",
      "Care for us! True, indeed! They ne'er cared for us\n",
      "yet: suffer us to famish, and their store-houses\n",
      "crammed with grain; make edicts for usury, to\n",
      "support usurers; repeal daily any wholesome act\n",
      "established against the rich, and provide more\n",
      "piercing statutes daily, to chain up and restrain\n",
      "the poor. If the wars eat us not up, they will; and\n",
      "there's all the love they bear us.\n",
      "\n",
      "MENENIUS:\n",
      "Either you must\n",
      "Confess yourselves wondrous malicious,\n",
      "Or be accused of folly. I shall tell you\n",
      "A pretty tale: it may be you have heard it;\n",
      "But, since it serves my purpose, I will venture\n",
      "To stale 't a little more.\n",
      "\n",
      "First Citizen:\n",
      "Well, I'll hear it, sir: yet you must not think to\n",
      "fob off our disgrace with a tale: but, an 't please\n",
      "you, deliver.\n",
      "\n",
      "MENENIUS:\n",
      "There was a time when all the body's members\n",
      "Rebell'd against the belly, thus accused it:\n",
      "That only like a gulf it did remain\n",
      "I' the midst o' the body, idle and unactive,\n",
      "Still cupboarding the viand, never bearing\n",
      "Like labour with the rest, where the other instruments\n",
      "Did see and hear, devise, instruct, walk, feel,\n",
      "And, mutually participate, did minister\n",
      "Unto the appetite and affection common\n",
      "Of the whole body. The belly answer'd--\n",
      "\n",
      "First Citizen:\n",
      "Well, sir, what answer made the belly?\n",
      "\n",
      "MENENIUS:\n",
      "Sir, I shall tell you. With a kind of smile,\n",
      "Which ne'er came from the lungs, but even thus--\n",
      "For, look you, I may make the belly smile\n",
      "As well as speak--it tauntingly replied\n",
      "To the discontented members, the mutinous parts\n",
      "That envied his receipt; even so most fitly\n",
      "As you malign our senators for that\n",
      "They are not such as you.\n",
      "\n",
      "First Citizen:\n",
      "Your belly's answer? What!\n",
      "The kingly-crowned head, the vigilant eye,\n",
      "The counsellor heart, the arm our soldier,\n",
      "Our steed the leg, the tongue our trumpeter.\n",
      "With other muniments and petty helps\n",
      "In this our fabric, if that they--\n",
      "\n",
      "MENENIUS:\n",
      "What then?\n",
      "'Fore me, this fellow speaks! What then? what then?\n",
      "\n",
      "First Citizen:\n",
      "Should by the cormorant belly be restrain'd,\n",
      "Who is the sink o' the body,--\n",
      "\n",
      "MENENIUS:\n",
      "Well, what then?\n",
      "\n",
      "First Citizen:\n",
      "The former agents, if they did complain,\n",
      "What could the belly answer?\n",
      "\n",
      "MENENIUS:\n",
      "I will tell you\n",
      "If you'll bestow a small--of what you have little--\n",
      "Patience awhile, you'll hear the belly's answer.\n",
      "\n",
      "First Citizen:\n",
      "Ye're long about it.\n",
      "\n",
      "MENENIUS:\n",
      "Note me this, good friend;\n",
      "Your most grave belly was deliberate,\n",
      "Not rash like his accusers, and thus answer'd:\n",
      "'True is it, my incorporate friends,' quoth he,\n",
      "'That I receive the general food at first,\n",
      "Which you do live upon; and fit it is,\n",
      "Because I am the store-house and the shop\n",
      "Of the whole body: but, if you do remember,\n",
      "I send it through the rivers of your blood,\n",
      "Even to the court, the heart, to the seat o' the brain;\n",
      "And, through the cranks and offices of man,\n",
      "The strongest nerves and small inferior veins\n",
      "From me receive that natural competency\n",
      "Whereby they live: and though that all at once,\n",
      "You, my good friends,'--this says the belly, mark me,--\n",
      "\n",
      "First Citizen:\n",
      "Ay, sir; well, well.\n",
      "\n",
      "MENENIUS:\n",
      "'Though all at once cannot\n",
      "See what I do deliver out to each,\n",
      "Yet I can make my audit up, that all\n",
      "From me do back receive the flour of all,\n",
      "And leave me but the bran.' What say you to't?\n",
      "\n",
      "First Citizen:\n",
      "It was an answer: how apply you this?\n",
      "\n",
      "MENENIUS:\n",
      "The senators of Rome are this good belly,\n",
      "And you the mutinous members; for examine\n",
      "Their counsels and their cares, digest things rightly\n",
      "Touching the weal o' the common, you shall find\n",
      "No public benefit which you receive\n",
      "But it proceeds or comes from them to you\n",
      "And no way from yourselves. What do you think,\n",
      "You, the great toe of this assembly?\n",
      "\n",
      "First Citizen:\n",
      "I the great toe! why the great toe?\n",
      "\n",
      "MENENIUS:\n",
      "For that, being one o' the lowest, basest, poorest,\n",
      "Of this most wise rebellion, thou go'st foremost:\n",
      "Thou rascal, that art worst in blood to run,\n",
      "Lead'st first to win some vantage.\n",
      "But make you ready your stiff bats and clubs:\n",
      "Rome and her rats are at the point of battle;\n",
      "The one side must have bale.\n",
      "Hail, noble Marcius!\n",
      "\n",
      "MARCIUS:\n",
      "Thanks. What's the matter, you dissentious rogues,\n",
      "That, rubbing the poor itch of your opinion,\n",
      "Make yourselves scabs?\n",
      "\n",
      "First Citizen:\n",
      "We have ever your good word.\n",
      "\n",
      "MARCIUS:\n",
      "He that will give good words to thee will flatter\n",
      "Beneath abhorring. What would you have, you curs,\n",
      "That like nor peace nor war? the one affrights you,\n",
      "The other makes you proud. He that trusts to you,\n",
      "Where he should find you lions, finds you hares;\n",
      "Where foxes, geese: you are no surer, no,\n",
      "Than is the coal of fire upon the ice,\n",
      "Or hailstone in the sun. Your virtue is\n",
      "To make him worthy whose offence subdues him\n",
      "And curse that justice did it.\n",
      "Who deserves greatness\n",
      "Deserves your hate; and your affections are\n",
      "A sick man's appetite, who desires most that\n",
      "Which would increase his evil. He that depends\n",
      "Upon your favours swims with fins of lead\n",
      "And hews down oaks with rushes. Hang ye! Trust Ye?\n",
      "With every minute you do change a mind,\n",
      "And call him noble that was now your hate,\n",
      "Him vile that was your garland. What's the matter,\n",
      "That in these several places of the city\n",
      "You cry against the noble senate, who,\n",
      "Under the gods, keep you in awe, which else\n",
      "Would feed on one another? What's their seeking?\n",
      "\n",
      "MENENIUS:\n",
      "For corn at their own rates; whereof, they say,\n",
      "The city is well stored.\n",
      "\n",
      "MARCIUS:\n",
      "Hang 'em! They say!\n",
      "They'll sit by the fire, and presume to know\n",
      "What's done i' the Capitol; who's like to rise,\n",
      "Who thrives and who declines; side factions\n",
      "and give out\n",
      "Conjectural marriages; making parties strong\n",
      "And feebling such as stand not in their liking\n",
      "Below their cobbled shoes. They say there's\n",
      "grain enough!\n",
      "Would the nobility lay aside their ruth,\n",
      "And let me use my sword, I'll make a quarry\n",
      "With thousands of these quarter'd slaves, as high\n",
      "As I could pick my lance.\n",
      "\n",
      "MENENIUS:\n",
      "Nay, these are almost thoroughly persuaded;\n",
      "For though abundantly they lack discretion,\n",
      "Yet are they passing cowardly. But, I beseech you,\n",
      "What says the other troop?\n",
      "\n",
      "MARCIUS:\n",
      "They are dissolved: hang 'em!\n",
      "They said they were an-hungry; sigh'd forth proverbs,\n",
      "That hunger broke stone walls, that dogs must eat,\n",
      "That meat was made for mouths, that the gods sent not\n",
      "Corn for the rich men only: with these shreds\n",
      "They vented their complainings; which being answer'd,\n",
      "And a petition granted them, a strange one--\n",
      "To break the heart of generosity,\n",
      "And make bold power look pale--they threw their caps\n",
      "As they would hang them on the horns o' the moon,\n",
      "Shouting their emulation.\n",
      "\n",
      "MENENIUS:\n",
      "What is granted them?\n",
      "\n",
      "MARCIUS:\n",
      "Five tribunes to defend their vulgar wisdoms,\n",
      "Of their own choice: one's Junius Brutus,\n",
      "Sicinius Velutus, and I know not--'Sdeath!\n",
      "The rabble should have first unroof'd the city,\n",
      "Ere so prevail'd with me: \n"
     ]
    }
   ],
   "source": [
    "print(text)"
   ]
  },
  {
   "cell_type": "code",
   "execution_count": 22,
   "id": "373ea50a",
   "metadata": {},
   "outputs": [
    {
     "name": "stdout",
     "output_type": "stream",
     "text": [
      "X :  tensor([[15, 39, 48,  ..., 36, 51, 48],\n",
      "        [49, 50,  1,  ..., 50, 38, 35],\n",
      "        [12, 39, 50,  ..., 48,  4,  1],\n",
      "        ...,\n",
      "        [48, 49, 50,  ...,  3, 34,  1],\n",
      "        [ 1, 51, 44,  ..., 53, 39, 50],\n",
      "        [48, 45, 45,  ..., 38,  1, 43]])\n",
      "Y :  tensor([[39, 48, 49,  ..., 51, 48, 50],\n",
      "        [50,  1, 12,  ..., 38, 35, 48],\n",
      "        [39, 50, 39,  ...,  4,  1, 38],\n",
      "        ...,\n",
      "        [49, 50,  1,  ..., 34,  1, 53],\n",
      "        [51, 44, 48,  ..., 39, 50, 38],\n",
      "        [45, 45, 36,  ...,  1, 43, 35]])\n"
     ]
    }
   ],
   "source": [
    "sequence_length = 40\n",
    "step = 3  # stride\n",
    "X, Y = [], []\n",
    "for i in range(0, len(text) - sequence_length, step):\n",
    "    chunk = text[i:i+sequence_length]\n",
    "    target = text[i+1:i+sequence_length+1]\n",
    "    X.append(encode(chunk))\n",
    "    Y.append(encode(target))\n",
    "\n",
    "import torch\n",
    "\n",
    "X = torch.tensor(X, dtype=torch.long)\n",
    "Y = torch.tensor(Y, dtype=torch.long)\n",
    "\n",
    "print(\"X : \", X)\n",
    "print(\"Y : \", Y)\n"
   ]
  },
  {
   "cell_type": "code",
   "execution_count": null,
   "id": "46fdba21",
   "metadata": {},
   "outputs": [
    {
     "name": "stdout",
     "output_type": "stream",
     "text": [
      "Epoch 1, Loss: 92.1858\n",
      "Epoch 11, Loss: 69.3330\n",
      "Epoch 21, Loss: 67.8817\n",
      "Epoch 31, Loss: 67.1670\n",
      "Epoch 41, Loss: 66.8450\n",
      "Epoch 51, Loss: 66.6165\n",
      "Epoch 61, Loss: 66.5904\n",
      "Epoch 71, Loss: 66.3234\n",
      "Epoch 81, Loss: 66.5497\n",
      "Epoch 91, Loss: 66.2094\n"
     ]
    }
   ],
   "source": [
    "model = RNN(vocab_size, embed_size=32, hidden_size=64)\n",
    "optimizer = torch.optim.Adam(model.parameters(), lr=0.005)\n",
    "criterion = nn.CrossEntropyLoss()\n",
    "\n",
    "batch_size = 128\n",
    "epochs = 100\n",
    "\n",
    "for epoch in range(epochs):\n",
    "    permutation = torch.randperm(X.size(0))\n",
    "    total_loss = 0\n",
    "\n",
    "    for i in range(0, X.size(0), batch_size):\n",
    "        idx = permutation[i:i + batch_size]\n",
    "        xb = X[idx]\n",
    "        yb = Y[idx]\n",
    "\n",
    "        optimizer.zero_grad()\n",
    "        logits = model(xb)\n",
    "        loss = criterion(logits.view(-1, vocab_size), yb.view(-1))\n",
    "        loss.backward()\n",
    "        optimizer.step()\n",
    "        total_loss += loss.item()\n",
    "    if epoch % 10 == 0:\n",
    "        avg_loss = total_loss / (X.size(0) // batch_size)\n",
    "        print(f\"Epoch {epoch + 1}, Loss: {avg_loss:.4f}\")"
   ]
  },
  {
   "cell_type": "code",
   "execution_count": 24,
   "id": "bb44a6e4",
   "metadata": {},
   "outputs": [],
   "source": [
    "def generate(model, seed_text, length=100):\n",
    "    model.eval()\n",
    "    context = torch.tensor([stoi[c] for c in seed_text], dtype=torch.long).unsqueeze(0)\n",
    "\n",
    "    with torch.no_grad():\n",
    "        for _ in range(length):\n",
    "            logits = model(context)\n",
    "            last_logits = logits[0, -1]\n",
    "            probs = torch.softmax(last_logits, dim=0)\n",
    "            next_id = torch.multinomial(probs, num_samples=1).item()\n",
    "\n",
    "            context = torch.cat([context, torch.tensor([[next_id]])], dim=1)\n",
    "\n",
    "    return decode(context.squeeze().tolist())"
   ]
  },
  {
   "cell_type": "code",
   "execution_count": 27,
   "id": "1b84711c",
   "metadata": {},
   "outputs": [
    {
     "name": "stdout",
     "output_type": "stream",
     "text": [
      "First Citizen: sfeiraS ur ox thte gxbuep eanendre foolrst Chon'ts a mollths kY aaM'n,angrr,hicrupa lire\n",
      "Bewlohu? si rovusateyngrw langthaltanee ei'elp\n",
      "Te\n",
      "utizize a'olyiunselheb workue  fali'elerin eot fibs ansi ce' omeurst you.tore hp dou stouols, aturdite\n",
      "MENENIUSpygns ouebrtosorr ms\n",
      "lae fou fea ythns ot JWun blt\n"
     ]
    }
   ],
   "source": [
    "print(generate(model, \"First Citizen: \", length=300))"
   ]
  },
  {
   "cell_type": "code",
   "execution_count": null,
   "id": "42c33b73",
   "metadata": {},
   "outputs": [],
   "source": []
  }
 ],
 "metadata": {
  "kernelspec": {
   "display_name": ".pyenv",
   "language": "python",
   "name": "python3"
  },
  "language_info": {
   "codemirror_mode": {
    "name": "ipython",
    "version": 3
   },
   "file_extension": ".py",
   "mimetype": "text/x-python",
   "name": "python",
   "nbconvert_exporter": "python",
   "pygments_lexer": "ipython3",
   "version": "3.11.13"
  }
 },
 "nbformat": 4,
 "nbformat_minor": 5
}
