{
 "cells": [
  {
   "cell_type": "code",
   "execution_count": 1,
   "id": "8222de9a",
   "metadata": {},
   "outputs": [],
   "source": [
    "import pandas as pd\n",
    "import numpy as np"
   ]
  },
  {
   "cell_type": "code",
   "execution_count": 2,
   "id": "91c08c4f",
   "metadata": {},
   "outputs": [],
   "source": [
    "def sigmoid(x):\n",
    "    return 1 / (1 + np.exp(-x))\n",
    "\n",
    "def tanh(x):\n",
    "    return np.tanh(x)"
   ]
  },
  {
   "cell_type": "markdown",
   "id": "22f7c1a6",
   "metadata": {},
   "source": [
    "![Architecture](../assets/gate_of_lstm.webp)"
   ]
  },
  {
   "cell_type": "code",
   "execution_count": 3,
   "id": "fb2525e6",
   "metadata": {},
   "outputs": [
    {
     "name": "stdout",
     "output_type": "stream",
     "text": [
      "f_t (forget gate): 0.6225\n",
      "i_t (input gate): 0.5987\n",
      "g_t (cell candidate): 0.2913\n",
      "c_t (cell state): 0.1744\n",
      "o_t (output gate): 0.6457\n",
      "h_t (hidden state): 0.1115\n"
     ]
    }
   ],
   "source": [
    "# Intialize value of C_{t-1}, h_{t-1}, and x_{t}\n",
    "x_t = 1.0\n",
    "c_prev = 0.0\n",
    "h_prev = 0.0\n",
    "\n",
    "# Define weights and biases (all scalar)\n",
    "w_f, u_f, b_f = 0.5, 0.1, 0.0\n",
    "w_i, u_i, b_i = 0.4, 0.1, 0.0\n",
    "w_c, u_c, b_c = 0.3, 0.1, 0.0\n",
    "w_o, u_o, b_o = 0.6, 0.1, 0.0\n",
    "\n",
    "# Gate calculations\n",
    "f_t = sigmoid(w_f * x_t + u_f * h_prev + b_f)\n",
    "i_t = sigmoid(w_i * x_t + u_i * h_prev + b_i)\n",
    "g_t = tanh(w_c * x_t + u_c * h_prev + b_c)\n",
    "c_t = f_t * c_prev + i_t * g_t\n",
    "o_t = sigmoid(w_o * x_t + u_o * h_prev + b_o)\n",
    "h_t = tanh(c_t) * o_t\n",
    "\n",
    "# Print intermediate results\n",
    "print(\"f_t (forget gate):\", round(f_t, 4))\n",
    "print(\"i_t (input gate):\", round(i_t, 4))\n",
    "print(\"g_t (cell candidate):\", round(g_t, 4))\n",
    "print(\"c_t (cell state):\", round(c_t, 4))\n",
    "print(\"o_t (output gate):\", round(o_t, 4))\n",
    "print(\"h_t (hidden state):\", round(h_t, 4))"
   ]
  },
  {
   "cell_type": "code",
   "execution_count": 4,
   "id": "ca8dc100",
   "metadata": {},
   "outputs": [
    {
     "name": "stdout",
     "output_type": "stream",
     "text": [
      "Time step 0: [[-0.01391547 -0.02415795]]\n",
      "Time step 1: [[-0.01171572 -0.0245462 ]]\n",
      "Time step 2: [[-0.00654368 -0.01762934]]\n"
     ]
    }
   ],
   "source": [
    "import os\n",
    "import sys\n",
    "sys.path.append(os.path.abspath(\"..\"))\n",
    "\n",
    "from A11M.rnn.lstm import LSTM\n",
    "from A11M.scale.standard import StandardScaler\n",
    "\n",
    "lstm = LSTM(input_size=1, hidden_size=2, output_size=1)\n",
    "\n",
    "inputs = [np.array([[1.0]]), np.array([[0.5]]), np.array([[0.2]])]\n",
    "\n",
    "# Forward pass\n",
    "outputs = lstm.forward(inputs)\n",
    "\n",
    "# Print hidden states\n",
    "for i, h in enumerate(outputs):\n",
    "    print(f\"Time step {i}: {h}\")"
   ]
  },
  {
   "cell_type": "code",
   "execution_count": 5,
   "id": "38e76cd8",
   "metadata": {},
   "outputs": [
    {
     "name": "stdout",
     "output_type": "stream",
     "text": [
      "Epoch 0, Loss: 0.000112\n",
      "Epoch 100, Loss: 0.000092\n",
      "Epoch 200, Loss: 0.000075\n",
      "Epoch 300, Loss: 0.000061\n",
      "Epoch 400, Loss: 0.000050\n",
      "Epoch 500, Loss: 0.000041\n",
      "Epoch 600, Loss: 0.000033\n",
      "Epoch 700, Loss: 0.000027\n",
      "Epoch 800, Loss: 0.000022\n",
      "Epoch 900, Loss: 0.000018\n"
     ]
    }
   ],
   "source": [
    "model = LSTM(input_size=1, hidden_size=4, output_size=1)\n",
    "\n",
    "# Example sequence (predict alternation)\n",
    "X = [np.array([[0.0]]), np.array([[1.0]]), np.array([[0.0]]), np.array([[1.0]])] * 100\n",
    "Y = [np.array([[1.0]]), np.array([[0.0]]), np.array([[1.0]]), np.array([[0.0]])] * 100\n",
    "\n",
    "for epoch in range(1000):\n",
    "    loss = model.train_step(X[:10], Y[:10], lr=0.01)\n",
    "    if epoch % 100 == 0:\n",
    "        print(f\"Epoch {epoch}, Loss: {loss:.6f}\")"
   ]
  },
  {
   "cell_type": "code",
   "execution_count": 6,
   "id": "9aafc2ce",
   "metadata": {},
   "outputs": [],
   "source": [
    "import kagglehub\n",
    "\n",
    "\n",
    "path = kagglehub.dataset_download(\"umerhaddii/big-tech-giants-stock-price-data\")"
   ]
  },
  {
   "cell_type": "code",
   "execution_count": 7,
   "id": "87e1e741",
   "metadata": {},
   "outputs": [
    {
     "data": {
      "text/plain": [
       "['big_tech_companies.csv', 'big_tech_stock_prices.csv']"
      ]
     },
     "execution_count": 7,
     "metadata": {},
     "output_type": "execute_result"
    }
   ],
   "source": [
    "os.listdir(path)"
   ]
  },
  {
   "cell_type": "code",
   "execution_count": 8,
   "id": "061a8dcb",
   "metadata": {},
   "outputs": [],
   "source": [
    "# read data big_tech_companies.csv\n",
    "df_companies = pd.read_csv(os.path.join(path, 'big_tech_companies.csv'))\n",
    "df_stock_prices = pd.read_csv(os.path.join(path, 'big_tech_stock_prices.csv'))"
   ]
  },
  {
   "cell_type": "code",
   "execution_count": 9,
   "id": "d969e853",
   "metadata": {},
   "outputs": [
    {
     "data": {
      "text/html": [
       "<div>\n",
       "<style scoped>\n",
       "    .dataframe tbody tr th:only-of-type {\n",
       "        vertical-align: middle;\n",
       "    }\n",
       "\n",
       "    .dataframe tbody tr th {\n",
       "        vertical-align: top;\n",
       "    }\n",
       "\n",
       "    .dataframe thead th {\n",
       "        text-align: right;\n",
       "    }\n",
       "</style>\n",
       "<table border=\"1\" class=\"dataframe\">\n",
       "  <thead>\n",
       "    <tr style=\"text-align: right;\">\n",
       "      <th></th>\n",
       "      <th>stock_symbol</th>\n",
       "      <th>company</th>\n",
       "    </tr>\n",
       "  </thead>\n",
       "  <tbody>\n",
       "    <tr>\n",
       "      <th>0</th>\n",
       "      <td>AAPL</td>\n",
       "      <td>Apple Inc.</td>\n",
       "    </tr>\n",
       "    <tr>\n",
       "      <th>1</th>\n",
       "      <td>ADBE</td>\n",
       "      <td>Adobe Inc.</td>\n",
       "    </tr>\n",
       "    <tr>\n",
       "      <th>2</th>\n",
       "      <td>AMZN</td>\n",
       "      <td>Amazon.com, Inc.</td>\n",
       "    </tr>\n",
       "    <tr>\n",
       "      <th>3</th>\n",
       "      <td>CRM</td>\n",
       "      <td>Salesforce, Inc.</td>\n",
       "    </tr>\n",
       "    <tr>\n",
       "      <th>4</th>\n",
       "      <td>CSCO</td>\n",
       "      <td>Cisco Systems, Inc.</td>\n",
       "    </tr>\n",
       "  </tbody>\n",
       "</table>\n",
       "</div>"
      ],
      "text/plain": [
       "  stock_symbol              company\n",
       "0         AAPL           Apple Inc.\n",
       "1         ADBE           Adobe Inc.\n",
       "2         AMZN     Amazon.com, Inc.\n",
       "3          CRM     Salesforce, Inc.\n",
       "4         CSCO  Cisco Systems, Inc."
      ]
     },
     "execution_count": 9,
     "metadata": {},
     "output_type": "execute_result"
    }
   ],
   "source": [
    "df_companies.head(n=5)"
   ]
  },
  {
   "cell_type": "code",
   "execution_count": 10,
   "id": "00f17f87",
   "metadata": {},
   "outputs": [
    {
     "data": {
      "text/html": [
       "<div>\n",
       "<style scoped>\n",
       "    .dataframe tbody tr th:only-of-type {\n",
       "        vertical-align: middle;\n",
       "    }\n",
       "\n",
       "    .dataframe tbody tr th {\n",
       "        vertical-align: top;\n",
       "    }\n",
       "\n",
       "    .dataframe thead th {\n",
       "        text-align: right;\n",
       "    }\n",
       "</style>\n",
       "<table border=\"1\" class=\"dataframe\">\n",
       "  <thead>\n",
       "    <tr style=\"text-align: right;\">\n",
       "      <th></th>\n",
       "      <th>stock_symbol</th>\n",
       "      <th>date</th>\n",
       "      <th>open</th>\n",
       "      <th>high</th>\n",
       "      <th>low</th>\n",
       "      <th>close</th>\n",
       "      <th>adj_close</th>\n",
       "      <th>volume</th>\n",
       "    </tr>\n",
       "  </thead>\n",
       "  <tbody>\n",
       "    <tr>\n",
       "      <th>0</th>\n",
       "      <td>AAPL</td>\n",
       "      <td>2010-01-04</td>\n",
       "      <td>7.622500</td>\n",
       "      <td>7.660714</td>\n",
       "      <td>7.585000</td>\n",
       "      <td>7.643214</td>\n",
       "      <td>6.515213</td>\n",
       "      <td>493729600</td>\n",
       "    </tr>\n",
       "    <tr>\n",
       "      <th>1</th>\n",
       "      <td>AAPL</td>\n",
       "      <td>2010-01-05</td>\n",
       "      <td>7.664286</td>\n",
       "      <td>7.699643</td>\n",
       "      <td>7.616071</td>\n",
       "      <td>7.656429</td>\n",
       "      <td>6.526476</td>\n",
       "      <td>601904800</td>\n",
       "    </tr>\n",
       "    <tr>\n",
       "      <th>2</th>\n",
       "      <td>AAPL</td>\n",
       "      <td>2010-01-06</td>\n",
       "      <td>7.656429</td>\n",
       "      <td>7.686786</td>\n",
       "      <td>7.526786</td>\n",
       "      <td>7.534643</td>\n",
       "      <td>6.422664</td>\n",
       "      <td>552160000</td>\n",
       "    </tr>\n",
       "    <tr>\n",
       "      <th>3</th>\n",
       "      <td>AAPL</td>\n",
       "      <td>2010-01-07</td>\n",
       "      <td>7.562500</td>\n",
       "      <td>7.571429</td>\n",
       "      <td>7.466071</td>\n",
       "      <td>7.520714</td>\n",
       "      <td>6.410790</td>\n",
       "      <td>477131200</td>\n",
       "    </tr>\n",
       "    <tr>\n",
       "      <th>4</th>\n",
       "      <td>AAPL</td>\n",
       "      <td>2010-01-08</td>\n",
       "      <td>7.510714</td>\n",
       "      <td>7.571429</td>\n",
       "      <td>7.466429</td>\n",
       "      <td>7.570714</td>\n",
       "      <td>6.453412</td>\n",
       "      <td>447610800</td>\n",
       "    </tr>\n",
       "  </tbody>\n",
       "</table>\n",
       "</div>"
      ],
      "text/plain": [
       "  stock_symbol        date      open      high       low     close  adj_close  \\\n",
       "0         AAPL  2010-01-04  7.622500  7.660714  7.585000  7.643214   6.515213   \n",
       "1         AAPL  2010-01-05  7.664286  7.699643  7.616071  7.656429   6.526476   \n",
       "2         AAPL  2010-01-06  7.656429  7.686786  7.526786  7.534643   6.422664   \n",
       "3         AAPL  2010-01-07  7.562500  7.571429  7.466071  7.520714   6.410790   \n",
       "4         AAPL  2010-01-08  7.510714  7.571429  7.466429  7.570714   6.453412   \n",
       "\n",
       "      volume  \n",
       "0  493729600  \n",
       "1  601904800  \n",
       "2  552160000  \n",
       "3  477131200  \n",
       "4  447610800  "
      ]
     },
     "execution_count": 10,
     "metadata": {},
     "output_type": "execute_result"
    }
   ],
   "source": [
    "df_stock_prices.head()"
   ]
  },
  {
   "cell_type": "code",
   "execution_count": 16,
   "id": "b293b4a0",
   "metadata": {},
   "outputs": [],
   "source": [
    "# Step 1: Filter AAPL and sort by date\n",
    "df = df_stock_prices[df_stock_prices['stock_symbol'] == 'AAPL'].copy()\n",
    "df['date'] = pd.to_datetime(df['date'])\n",
    "df.sort_values('date', inplace=True)\n",
    "\n",
    "# Step 2: Extract 'close' prices\n",
    "aapl_prices = df['close'].values.reshape(-1, 1)  # shape (N, 1)\n",
    "\n",
    "# Step 3: Scale the prices using StandardScaler\n",
    "scaler = StandardScaler()\n",
    "scaled_prices = scaler.fit_transform(aapl_prices).flatten()  # flatten for sequence generation\n",
    "\n",
    "# Step 4: Create sequences\n",
    "def create_lstm_sequences(data: np.ndarray, window_size=5):\n",
    "    X, Y = [], []\n",
    "    for i in range(len(data) - window_size):\n",
    "        x_seq = [np.array([[data[j]]]) for j in range(i, i + window_size)]\n",
    "        y_target = np.array([[data[i + window_size]]])\n",
    "        X.append(x_seq)\n",
    "        Y.append(y_target)\n",
    "    return X, Y\n",
    "\n",
    "X, Y = create_lstm_sequences(scaled_prices, window_size=20)\n",
    "\n",
    "# Optional: Use subset for faster training\n",
    "X_train, Y_train = X[:500], Y[:500]\n",
    "\n",
    "# Step 5: Initialize model\n",
    "model = LSTM(input_size=1, hidden_size=10, output_size=1)\n"
   ]
  },
  {
   "cell_type": "code",
   "execution_count": null,
   "id": "0293c886",
   "metadata": {},
   "outputs": [],
   "source": [
    "print(len(X), len(Y))"
   ]
  },
  {
   "cell_type": "code",
   "execution_count": null,
   "id": "01bbd1f2",
   "metadata": {},
   "outputs": [
    {
     "name": "stdout",
     "output_type": "stream",
     "text": [
      "Epoch 0, Loss: 0.282767\n",
      "Epoch 100, Loss: 0.001002\n",
      "Epoch 200, Loss: 0.000999\n",
      "Epoch 300, Loss: 0.000995\n",
      "Epoch 400, Loss: 0.000992\n"
     ]
    }
   ],
   "source": [
    "for epoch in range(1000):\n",
    "    total_loss = 0\n",
    "    for x_seq, y_target in zip(X_train, Y_train):\n",
    "        loss = model.train_step(x_seq, [y_target], lr=0.01)\n",
    "        total_loss += loss\n",
    "    if epoch % 100 == 0:\n",
    "        print(f\"Epoch {epoch}, Loss: {total_loss / len(X_train):.6f}\")"
   ]
  },
  {
   "cell_type": "code",
   "execution_count": 13,
   "id": "f078afa2",
   "metadata": {},
   "outputs": [
    {
     "name": "stdout",
     "output_type": "stream",
     "text": [
      "Predicted close price: 15.77\n"
     ]
    }
   ],
   "source": [
    "# Use the last sequence for prediction\n",
    "last_seq = X[-1]  # shape: list of 5 arrays, each (1,1)\n",
    "pred = model.predict(last_seq)[-1]  # shape (1,1)\n",
    "\n",
    "# Inverse transform to get actual price\n",
    "predicted_price = scaler.inverse_transform(pred)\n",
    "print(f\"Predicted close price: {predicted_price.item():.2f}\")"
   ]
  },
  {
   "cell_type": "code",
   "execution_count": 15,
   "id": "6185974a",
   "metadata": {},
   "outputs": [
    {
     "data": {
      "image/png": "[encoded data removed]",
      "text/plain": [
       "<Figure size 1200x600 with 1 Axes>"
      ]
     },
     "metadata": {},
     "output_type": "display_data"
    }
   ],
   "source": [
    "from matplotlib import pyplot as plt\n",
    "\n",
    "\n",
    "window_size = 5\n",
    "X_all, Y_all = create_lstm_sequences(scaled_prices, window_size=window_size)\n",
    "\n",
    "# === 2. Train/Test split ===\n",
    "split_index = int(len(X_all) * 0.8)\n",
    "X_train, Y_train = X_all[:split_index], Y_all[:split_index]\n",
    "X_test, Y_test = X_all[split_index:], Y_all[split_index:]\n",
    "\n",
    "# === 4. Predict on test set ===\n",
    "predicted_scaled_test = []\n",
    "for seq in X_test:\n",
    "    y_pred = model.predict(seq)[-1]\n",
    "    predicted_scaled_test.append(y_pred[0][0])\n",
    "\n",
    "# === 5. Inverse transform ===\n",
    "predicted_test_prices = scaler.inverse_transform(np.array(predicted_scaled_test))\n",
    "actual_test_prices = scaler.inverse_transform(np.array([y[0][0] for y in Y_test]))\n",
    "\n",
    "# === 6. Plot testing results ===\n",
    "plt.figure(figsize=(12, 6))\n",
    "plt.plot(actual_test_prices, label=\"Actual Test Price\", linewidth=2)\n",
    "plt.plot(predicted_test_prices, label=\"Predicted Test Price\", linestyle='--')\n",
    "plt.title(\"AAPL Stock Price Prediction on Test Set (LSTM)\")\n",
    "plt.xlabel(\"Time Step\")\n",
    "plt.ylabel(\"Price (USD)\")\n",
    "plt.legend()\n",
    "plt.grid(True)\n",
    "plt.tight_layout()\n",
    "plt.show()"
   ]
  },
  {
   "cell_type": "code",
   "execution_count": null,
   "id": "6144fb90",
   "metadata": {},
   "outputs": [],
   "source": []
  }
 ],
 "metadata": {
  "kernelspec": {
   "display_name": ".pyenv",
   "language": "python",
   "name": "python3"
  },
  "language_info": {
   "codemirror_mode": {
    "name": "ipython",
    "version": 3
   },
   "file_extension": ".py",
   "mimetype": "text/x-python",
   "name": "python",
   "nbconvert_exporter": "python",
   "pygments_lexer": "ipython3",
   "version": "3.11.13"
  }
 },
 "nbformat": 4,
 "nbformat_minor": 5
}
